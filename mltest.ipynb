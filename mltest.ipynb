{
 "cells": [
  {
   "cell_type": "code",
   "execution_count": 2,
   "metadata": {
    "collapsed": false
   },
   "outputs": [
    {
     "name": "stderr",
     "output_type": "stream",
     "text": [
      "/Users/newuser/anaconda3/lib/python3.6/site-packages/sklearn/cross_validation.py:44: DeprecationWarning: This module was deprecated in version 0.18 in favor of the model_selection module into which all the refactored classes and functions are moved. Also note that the interface of the new CV iterators are different from that of this module. This module will be removed in 0.20.\n",
      "  \"This module will be removed in 0.20.\", DeprecationWarning)\n"
     ]
    }
   ],
   "source": [
    "%matplotlib inline\n",
    "\n",
    "import pandas as pd\n",
    "import numpy as np\n",
    "\n",
    "from sklearn.linear_model import LogisticRegression\n",
    "from sklearn.cross_validation import train_test_split"
   ]
  },
  {
   "cell_type": "code",
   "execution_count": 3,
   "metadata": {
    "collapsed": false
   },
   "outputs": [],
   "source": [
    "data = pd.read_csv('test_2.csv')\n",
    "# data.head()"
   ]
  },
  {
   "cell_type": "code",
   "execution_count": 6,
   "metadata": {
    "collapsed": true
   },
   "outputs": [],
   "source": [
    "negative_words = np.array(['hate', 'annoy', 'anxious', 'bad', \n",
    "                           'corrupt', 'cut', 'crazy', 'dead', 'die', 'depressed',\n",
    "                          'dreadful', 'evil', 'fear', 'foul', 'frighten', 'gross',\n",
    "                          'angry', 'ill', 'insane', 'injure', 'jealous', 'malicious',\n",
    "                          'mean', 'monstrous', 'nobody', 'nonsense', 'pain', 'poor',\n",
    "                          'quit', 'rage', 'rude', 'rotten', 'reject', 'repulsive', 'savage',\n",
    "                          'scary', 'severe', 'sucks', 'ugly', 'terrible', 'upset', 'vile',\n",
    "                          'wicked', 'curse', 'not', 'cannot', 'no', 'monster',\n",
    "                          'trapped', 'burden', 'hopeless', 'gun', 'suicide', 'pills', 'overdose', 'never',\n",
    "                          'imperfect', 'disapprove', 'hard', 'challenging', 'demanding', 'different'\n",
    "                          'blame', 'painless', 'kill', 'suck', 'useless', 'strange',\n",
    "                          'sucked', 'shit', 'freak', 'boring', 'sick', 'stupid', 'slow',\n",
    "                          'emo', 'rip', 'awful', 'hide', 'ashamed', 'weird', 'insecure',\n",
    "                          'fat', 'nothing', 'worthless', 'depression', 'bitch', 'loathe',\n",
    "                          'hurt', 'hurts', 'blah', 'broken', 'worse', 'worst', 'cry', \n",
    "                          'crying', 'punch', 'died', 'moody', 'broke', 'tears', 'break',\n",
    "                          'wrong', 'gone', 'forget', 'left', 'alone', 'asshole', 'ass',\n",
    "                          'miss', 'dying', 'without', 'negative', 'killing', 'frown',\n",
    "                          'frustrated', 'complicated', 'weak', 'bloody', 'down', 'drugs',\n",
    "                          'devastated', 'disappointed', 'torture', 'violence', 'cutting',\n",
    "                          'punish', 'revenge'])"
   ]
  },
  {
   "cell_type": "markdown",
   "metadata": {},
   "source": [
    "## random branch of other stuff"
   ]
  },
  {
   "cell_type": "code",
   "execution_count": 8,
   "metadata": {
    "collapsed": false
   },
   "outputs": [],
   "source": [
    "from sklearn import feature_extraction\n",
    "\n",
    "vectorizer = feature_extraction.text.CountVectorizer(\n",
    "#     vocabulary=negative_words\n",
    "    stop_words=['i', 'am', 'is', 'feel', 'and', 'to']\n",
    "    \n",
    ")\n",
    "X = vectorizer.fit_transform(data['text'])\n",
    "\n"
   ]
  },
  {
   "cell_type": "code",
   "execution_count": 9,
   "metadata": {
    "collapsed": false
   },
   "outputs": [
    {
     "data": {
      "text/plain": [
       "(100, 164)"
      ]
     },
     "execution_count": 9,
     "metadata": {},
     "output_type": "execute_result"
    }
   ],
   "source": [
    "X = X.todense()\n",
    "X.shape"
   ]
  },
  {
   "cell_type": "code",
   "execution_count": 10,
   "metadata": {
    "collapsed": true
   },
   "outputs": [],
   "source": [
    "y = data['bool']"
   ]
  },
  {
   "cell_type": "code",
   "execution_count": 11,
   "metadata": {
    "collapsed": true
   },
   "outputs": [],
   "source": [
    "# equivalent:\n",
    "# data['bool']\n",
    "# data.bool"
   ]
  },
  {
   "cell_type": "code",
   "execution_count": 12,
   "metadata": {
    "collapsed": false
   },
   "outputs": [
    {
     "data": {
      "text/plain": [
       "(100, 164)"
      ]
     },
     "execution_count": 12,
     "metadata": {},
     "output_type": "execute_result"
    }
   ],
   "source": [
    "X.shape"
   ]
  },
  {
   "cell_type": "code",
   "execution_count": 13,
   "metadata": {
    "collapsed": false
   },
   "outputs": [],
   "source": [
    "# np.hstack((X,data['score'].reshape((27,1)).shape))"
   ]
  },
  {
   "cell_type": "code",
   "execution_count": 14,
   "metadata": {
    "collapsed": true
   },
   "outputs": [],
   "source": [
    "X_train, X_test, y_train, y_test  = train_test_split(X, y,\n",
    "    train_size=0.50, \n",
    "    random_state=420)"
   ]
  },
  {
   "cell_type": "code",
   "execution_count": 15,
   "metadata": {
    "collapsed": true
   },
   "outputs": [],
   "source": [
    "model = LogisticRegression()"
   ]
  },
  {
   "cell_type": "code",
   "execution_count": 16,
   "metadata": {
    "collapsed": false
   },
   "outputs": [
    {
     "data": {
      "text/plain": [
       "LogisticRegression(C=1.0, class_weight=None, dual=False, fit_intercept=True,\n",
       "          intercept_scaling=1, max_iter=100, multi_class='ovr', n_jobs=1,\n",
       "          penalty='l2', random_state=None, solver='liblinear', tol=0.0001,\n",
       "          verbose=0, warm_start=False)"
      ]
     },
     "execution_count": 16,
     "metadata": {},
     "output_type": "execute_result"
    }
   ],
   "source": [
    "model.fit(X_train,y_train)"
   ]
  },
  {
   "cell_type": "code",
   "execution_count": 17,
   "metadata": {
    "collapsed": false
   },
   "outputs": [
    {
     "data": {
      "text/plain": [
       "array([[ 0.52848781,  0.47151219],\n",
       "       [ 0.49287287,  0.50712713],\n",
       "       [ 0.52848781,  0.47151219],\n",
       "       [ 0.52848781,  0.47151219],\n",
       "       [ 0.55981162,  0.44018838],\n",
       "       [ 0.52848781,  0.47151219],\n",
       "       [ 0.48445882,  0.51554118],\n",
       "       [ 0.31878317,  0.68121683],\n",
       "       [ 0.59160244,  0.40839756],\n",
       "       [ 0.52848781,  0.47151219],\n",
       "       [ 0.52453631,  0.47546369],\n",
       "       [ 0.55981162,  0.44018838],\n",
       "       [ 0.4697798 ,  0.5302202 ],\n",
       "       [ 0.42330224,  0.57669776],\n",
       "       [ 0.56049039,  0.43950961],\n",
       "       [ 0.42330224,  0.57669776],\n",
       "       [ 0.52848781,  0.47151219],\n",
       "       [ 0.59697273,  0.40302727],\n",
       "       [ 0.52848781,  0.47151219],\n",
       "       [ 0.45168372,  0.54831628],\n",
       "       [ 0.79358569,  0.20641431],\n",
       "       [ 0.69956104,  0.30043896],\n",
       "       [ 0.63653378,  0.36346622],\n",
       "       [ 0.53022053,  0.46977947],\n",
       "       [ 0.52453631,  0.47546369],\n",
       "       [ 0.52848781,  0.47151219],\n",
       "       [ 0.60683518,  0.39316482],\n",
       "       [ 0.54727621,  0.45272379],\n",
       "       [ 0.46004645,  0.53995355],\n",
       "       [ 0.60683518,  0.39316482],\n",
       "       [ 0.43401012,  0.56598988],\n",
       "       [ 0.52848781,  0.47151219],\n",
       "       [ 0.69956104,  0.30043896],\n",
       "       [ 0.38149956,  0.61850044],\n",
       "       [ 0.46695281,  0.53304719],\n",
       "       [ 0.73167797,  0.26832203],\n",
       "       [ 0.52848781,  0.47151219],\n",
       "       [ 0.76226941,  0.23773059],\n",
       "       [ 0.52848781,  0.47151219],\n",
       "       [ 0.50847748,  0.49152252],\n",
       "       [ 0.22651073,  0.77348927],\n",
       "       [ 0.45168372,  0.54831628],\n",
       "       [ 0.48445882,  0.51554118],\n",
       "       [ 0.38272397,  0.61727603],\n",
       "       [ 0.40649299,  0.59350701],\n",
       "       [ 0.52848781,  0.47151219],\n",
       "       [ 0.26599133,  0.73400867],\n",
       "       [ 0.36849529,  0.63150471],\n",
       "       [ 0.62086293,  0.37913707],\n",
       "       [ 0.52848781,  0.47151219]])"
      ]
     },
     "execution_count": 17,
     "metadata": {},
     "output_type": "execute_result"
    }
   ],
   "source": [
    "model.predict_proba(X_test)"
   ]
  },
  {
   "cell_type": "code",
   "execution_count": 18,
   "metadata": {
    "collapsed": false,
    "scrolled": true
   },
   "outputs": [
    {
     "data": {
      "text/plain": [
       "array([[-0.01269675,  0.20575673,  0.        , -0.27879242, -0.25476934,\n",
       "         0.20575673,  0.36142591,  0.        , -0.27879242, -0.22622194,\n",
       "         0.        ,  0.20575673, -0.31995354, -0.3254302 ,  0.        ,\n",
       "        -0.37913777, -0.21750989,  0.21938797,  0.        , -0.31995354,\n",
       "         0.30794483,  0.54633831,  0.        , -0.21750989,  0.        ,\n",
       "         0.30794483,  0.35519041,  0.25287595, -0.25651896,  0.17625954,\n",
       "         0.35519041,  0.37958311,  0.        , -0.37913777, -0.1263228 ,\n",
       "         0.        ,  0.27316916,  0.27316916,  0.        ,  0.        ,\n",
       "         0.        ,  0.        , -0.37913777,  0.        ,  0.24207259,\n",
       "         0.35519041, -0.31995354,  0.27316916,  0.36142591,  0.        ,\n",
       "         0.35519041, -0.22622194,  0.08016161, -0.37913777,  0.        ,\n",
       "        -0.31995354,  0.2575546 , -0.18704654,  0.        ,  0.30794483,\n",
       "         0.2998302 ,  0.        ,  0.        , -0.17938106, -0.31995354,\n",
       "         0.        , -0.47464256,  0.        , -0.27879242, -0.27879242,\n",
       "         0.        , -0.27879242, -0.37913777, -0.11496937,  0.        ,\n",
       "         0.35519041,  0.        ,  0.31299868,  0.        ,  0.27423044,\n",
       "        -0.31995354,  0.        , -0.25651896,  0.49418687,  0.        ,\n",
       "         0.        ,  0.54190278,  0.        , -0.73113369,  0.        ,\n",
       "         0.        ,  0.        , -0.37252397,  0.        , -0.27879242,\n",
       "         0.22586247,  0.        ,  0.        , -0.43702256,  0.24207259,\n",
       "         0.        ,  0.        ,  0.21938797,  0.27907838, -0.1263228 ,\n",
       "         0.        ,  0.30794483,  0.2575546 ,  0.27907838, -0.31995354,\n",
       "         0.        ,  0.        ,  0.58722913,  0.        ,  0.36142591,\n",
       "         0.2575546 ,  0.        , -0.17938106,  0.22883675,  0.2575546 ,\n",
       "         0.        , -0.31995354,  0.27907838,  0.30794483, -0.3254302 ,\n",
       "         0.35519041, -0.31995354,  0.        ,  0.        , -0.37913777,\n",
       "         0.42330663,  0.        ,  0.35519041,  0.2575546 , -0.25476934,\n",
       "         0.        ,  0.24207259,  0.        , -0.37913777,  0.        ,\n",
       "         0.28594506,  0.        ,  0.        ,  0.        , -0.22622194,\n",
       "         0.        , -0.33207954,  0.        ,  0.        ,  1.10012165,\n",
       "         0.47226391,  0.        ,  0.        ,  0.30794483, -0.31995354,\n",
       "         0.03599571,  0.        ,  0.47226391,  0.12044913,  0.        ,\n",
       "         0.        ,  0.42330663,  0.35519041,  0.27316916]])"
      ]
     },
     "execution_count": 18,
     "metadata": {},
     "output_type": "execute_result"
    }
   ],
   "source": [
    "model.coef_"
   ]
  },
  {
   "cell_type": "code",
   "execution_count": 19,
   "metadata": {
    "collapsed": false
   },
   "outputs": [
    {
     "data": {
      "text/plain": [
       "0.76000000000000001"
      ]
     },
     "execution_count": 19,
     "metadata": {},
     "output_type": "execute_result"
    }
   ],
   "source": [
    "model.score(X_test,y_test)"
   ]
  },
  {
   "cell_type": "code",
   "execution_count": 20,
   "metadata": {
    "collapsed": false
   },
   "outputs": [
    {
     "data": {
      "text/plain": [
       "array([[27,  7],\n",
       "       [ 5, 11]])"
      ]
     },
     "execution_count": 20,
     "metadata": {},
     "output_type": "execute_result"
    }
   ],
   "source": [
    "from sklearn.metrics import confusion_matrix\n",
    "\n",
    "confusion_matrix(y_test,model.predict(X_test))"
   ]
  },
  {
   "cell_type": "code",
   "execution_count": 21,
   "metadata": {
    "collapsed": false
   },
   "outputs": [
    {
     "data": {
      "text/plain": [
       "0.2944"
      ]
     },
     "execution_count": 21,
     "metadata": {},
     "output_type": "execute_result"
    }
   ],
   "source": [
    "736/(1764+736)"
   ]
  },
  {
   "cell_type": "code",
   "execution_count": 22,
   "metadata": {
    "collapsed": false
   },
   "outputs": [
    {
     "data": {
      "text/plain": [
       "16"
      ]
     },
     "execution_count": 22,
     "metadata": {},
     "output_type": "execute_result"
    }
   ],
   "source": [
    "sum(y_test)"
   ]
  },
  {
   "cell_type": "code",
   "execution_count": 68,
   "metadata": {
    "collapsed": false
   },
   "outputs": [],
   "source": [
    "# data_queries = pd.read_csv('test.csv')\n",
    "# vectorizer_queries = feature_extraction.text.CountVectorizer(\n",
    "# #     vocabulary=negative_words\n",
    "    \n",
    "# )\n",
    "# X_queries = vectorizer.transform(data_queries['text']).todense()"
   ]
  },
  {
   "cell_type": "code",
   "execution_count": 71,
   "metadata": {
    "collapsed": false
   },
   "outputs": [
    {
     "data": {
      "text/plain": [
       "array([0, 0, 0, 0, 0, 0, 0, 0, 0, 0, 0, 0, 0, 0, 0, 1, 0, 0, 0, 0, 0, 0, 0,\n",
       "       0, 0, 0, 0])"
      ]
     },
     "execution_count": 71,
     "metadata": {},
     "output_type": "execute_result"
    }
   ],
   "source": [
    "model.predict(X_queries)"
   ]
  },
  {
   "cell_type": "markdown",
   "metadata": {},
   "source": [
    "## end random branch"
   ]
  },
  {
   "cell_type": "code",
   "execution_count": 108,
   "metadata": {
    "collapsed": true
   },
   "outputs": [],
   "source": [
    "def create_vector(string, counter):\n",
    "    temp = []\n",
    "    splitString = string.split(\" \")\n",
    "    negCount = 0\n",
    "\n",
    "    for nword in negative_words:\n",
    "        temp = np.append(temp, np.array([splitString.count(nword)]))\n",
    "        if splitString.count(nword) > 0:\n",
    "            negCount = 1\n",
    "    \n",
    "    temp = np.append(temp, np.array([data.score[counter]]))\n",
    "    \n",
    "    return np.array(temp,negCount) \n",
    "\n",
    "        "
   ]
  },
  {
   "cell_type": "code",
   "execution_count": 104,
   "metadata": {
    "collapsed": true
   },
   "outputs": [],
   "source": [
    "#handling the parent interaction (input as the text string)\n",
    "\n",
    "# def unflag(string,X):\n",
    "#     vec = create_vector(string)\n",
    "#     for v,i in enumerate(X):\n",
    "#         if np.array_equal(v, vec[0]):\n",
    "#             y[i] = 0\n",
    "    "
   ]
  }
 ],
 "metadata": {
  "kernelspec": {
   "display_name": "Python 3",
   "language": "python",
   "name": "python3"
  },
  "language_info": {
   "codemirror_mode": {
    "name": "ipython",
    "version": 3
   },
   "file_extension": ".py",
   "mimetype": "text/x-python",
   "name": "python",
   "nbconvert_exporter": "python",
   "pygments_lexer": "ipython3",
   "version": "3.6.0"
  }
 },
 "nbformat": 4,
 "nbformat_minor": 2
}
