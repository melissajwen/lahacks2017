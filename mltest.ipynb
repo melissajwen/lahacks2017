{
 "cells": [
  {
   "cell_type": "code",
   "execution_count": 106,
   "metadata": {
    "collapsed": false
   },
   "outputs": [],
   "source": [
    "%matplotlib inline\n",
    "\n",
    "import pandas as pd\n",
    "import numpy as np\n",
    "import matplotlib.pyplot as plt\n",
    "\n",
    "from sklearn.neighbors import KNeighborsClassifier\n",
    "from sklearn.linear_model import LogisticRegression\n",
    "from sklearn.cross_validation import train_test_split\n",
    "from sklearn.metrics import classification_report\n",
    "\n",
    "from datetime import datetime\n",
    "import itertools"
   ]
  },
  {
   "cell_type": "code",
   "execution_count": 107,
   "metadata": {
    "collapsed": false
   },
   "outputs": [],
   "source": [
    "data = pd.read_csv('test_2.csv')\n",
    "# data.head()"
   ]
  },
  {
   "cell_type": "code",
   "execution_count": 108,
   "metadata": {
    "collapsed": false
   },
   "outputs": [],
   "source": [
    "# data[data['text'] == 'I want to kill myself']['bool'] = 0\n",
    "# data"
   ]
  },
  {
   "cell_type": "code",
   "execution_count": 109,
   "metadata": {
    "collapsed": false
   },
   "outputs": [],
   "source": [
    "# data.info()\n",
    "# data.describe()"
   ]
  },
  {
   "cell_type": "code",
   "execution_count": 110,
   "metadata": {
    "collapsed": true
   },
   "outputs": [],
   "source": [
    "negative_words = np.array(['hate', 'annoy', 'anxious', 'bad', \n",
    "                           'corrupt', 'cut', 'crazy', 'dead', 'die', 'depressed',\n",
    "                          'dreadful', 'evil', 'fear', 'foul', 'frighten', 'gross',\n",
    "                          'angry', 'ill', 'insane', 'injure', 'jealous', 'malicious',\n",
    "                          'mean', 'monstrous', 'nobody', 'nonsense', 'pain', 'poor',\n",
    "                          'quit', 'rage', 'rude', 'rotten', 'reject', 'repulsive', 'savage',\n",
    "                          'scary', 'severe', 'sucks', 'ugly', 'terrible', 'upset', 'vile',\n",
    "                          'wicked', 'curse', 'not', 'cannot', 'no', 'monster',\n",
    "                          'trapped', 'burden', 'hopeless', 'gun', 'suicide', 'pills', 'overdose', 'never',\n",
    "                          'imperfect', 'disapprove', 'hard', 'challenging', 'demanding', 'different'\n",
    "                          'blame', 'painless', 'kill', 'suck', 'useless', 'strange',\n",
    "                          'sucked', 'shit', 'freak', 'boring', 'sick', 'stupid', 'slow',\n",
    "                          'emo', 'rip', 'awful', 'hide', 'ashamed', 'weird', 'insecure',\n",
    "                          'fat', 'nothing', 'worthless', 'depression', 'bitch', 'loathe',\n",
    "                          'hurt', 'hurts', 'blah', 'broken', 'worse', 'worst', 'cry', \n",
    "                          'crying', 'punch', 'died', 'moody', 'broke', 'tears', 'break',\n",
    "                          'wrong', 'gone', 'forget', 'left', 'alone', 'asshole', 'ass',\n",
    "                          'miss', 'dying', 'without', 'negative', 'killing', 'frown',\n",
    "                          'frustrated', 'complicated', 'weak', 'bloody', 'down', 'drugs',\n",
    "                          'devastated', 'disappointed', 'torture', 'violence', 'cutting'])"
   ]
  },
  {
   "cell_type": "code",
   "execution_count": 111,
   "metadata": {
    "collapsed": false,
    "scrolled": true
   },
   "outputs": [],
   "source": [
    "# data"
   ]
  },
  {
   "cell_type": "markdown",
   "metadata": {},
   "source": [
    "## random branch of other stuff"
   ]
  },
  {
   "cell_type": "code",
   "execution_count": 112,
   "metadata": {
    "collapsed": false
   },
   "outputs": [],
   "source": [
    "from sklearn import feature_extraction\n",
    "\n",
    "vectorizer = feature_extraction.text.CountVectorizer(\n",
    "#     vocabulary=negative_words\n",
    "    stop_words=['i']\n",
    "    \n",
    ")\n",
    "X = vectorizer.fit_transform(data['text'])\n",
    "\n"
   ]
  },
  {
   "cell_type": "code",
   "execution_count": 113,
   "metadata": {
    "collapsed": false
   },
   "outputs": [
    {
     "data": {
      "text/plain": [
       "(27, 47)"
      ]
     },
     "execution_count": 113,
     "metadata": {},
     "output_type": "execute_result"
    }
   ],
   "source": [
    "X = X.todense()\n",
    "X.shape"
   ]
  },
  {
   "cell_type": "code",
   "execution_count": 114,
   "metadata": {
    "collapsed": true
   },
   "outputs": [],
   "source": [
    "y = data['bool']"
   ]
  },
  {
   "cell_type": "code",
   "execution_count": 115,
   "metadata": {
    "collapsed": true
   },
   "outputs": [],
   "source": [
    "# equivalent:\n",
    "# data['bool']\n",
    "# data.bool"
   ]
  },
  {
   "cell_type": "code",
   "execution_count": 116,
   "metadata": {
    "collapsed": false
   },
   "outputs": [
    {
     "data": {
      "text/plain": [
       "(27, 47)"
      ]
     },
     "execution_count": 116,
     "metadata": {},
     "output_type": "execute_result"
    }
   ],
   "source": [
    "X.shape"
   ]
  },
  {
   "cell_type": "code",
   "execution_count": 117,
   "metadata": {
    "collapsed": false
   },
   "outputs": [],
   "source": [
    "# np.hstack((X,data['score'].reshape((27,1)).shape))"
   ]
  },
  {
   "cell_type": "code",
   "execution_count": 118,
   "metadata": {
    "collapsed": true
   },
   "outputs": [],
   "source": [
    "X_train, X_test, y_train, y_test  = train_test_split(X, y,\n",
    "    train_size=0.50, \n",
    "    random_state=420)"
   ]
  },
  {
   "cell_type": "code",
   "execution_count": 119,
   "metadata": {
    "collapsed": true
   },
   "outputs": [],
   "source": [
    "model = LogisticRegression()"
   ]
  },
  {
   "cell_type": "code",
   "execution_count": 120,
   "metadata": {
    "collapsed": false
   },
   "outputs": [
    {
     "data": {
      "text/plain": [
       "LogisticRegression(C=1.0, class_weight=None, dual=False, fit_intercept=True,\n",
       "          intercept_scaling=1, max_iter=100, multi_class='ovr', n_jobs=1,\n",
       "          penalty='l2', random_state=None, solver='liblinear', tol=0.0001,\n",
       "          verbose=0, warm_start=False)"
      ]
     },
     "execution_count": 120,
     "metadata": {},
     "output_type": "execute_result"
    }
   ],
   "source": [
    "model.fit(X_train,y_train)"
   ]
  },
  {
   "cell_type": "code",
   "execution_count": 121,
   "metadata": {
    "collapsed": false
   },
   "outputs": [
    {
     "data": {
      "text/plain": [
       "array([[ 0.54573979,  0.45426021],\n",
       "       [ 0.38923149,  0.61076851],\n",
       "       [ 0.51624216,  0.48375784],\n",
       "       [ 0.43697133,  0.56302867],\n",
       "       [ 0.54573979,  0.45426021],\n",
       "       [ 0.57714411,  0.42285589],\n",
       "       [ 0.46666556,  0.53333444],\n",
       "       [ 0.46666556,  0.53333444],\n",
       "       [ 0.31315304,  0.68684696],\n",
       "       [ 0.54573979,  0.45426021],\n",
       "       [ 0.54387706,  0.45612294],\n",
       "       [ 0.45445759,  0.54554241],\n",
       "       [ 0.56568613,  0.43431387],\n",
       "       [ 0.43697133,  0.56302867]])"
      ]
     },
     "execution_count": 121,
     "metadata": {},
     "output_type": "execute_result"
    }
   ],
   "source": [
    "model.predict_proba(X_test)"
   ]
  },
  {
   "cell_type": "code",
   "execution_count": 122,
   "metadata": {
    "collapsed": false,
    "scrolled": true
   },
   "outputs": [
    {
     "data": {
      "text/plain": [
       "array([[ 0.        ,  0.        , -0.18968058,  0.        ,  0.        ,\n",
       "         0.        ,  0.31700794,  0.        ,  0.31700794, -0.36596521,\n",
       "        -0.36596521, -0.61899335,  0.        , -0.44459639,  0.36614803,\n",
       "         0.        ,  0.25574892, -0.18968058, -0.30949668,  0.22869687,\n",
       "         0.25574892,  0.36614803,  0.        ,  0.        ,  0.        ,\n",
       "        -0.30949668,  0.        ,  0.        ,  0.        ,  0.22869687,\n",
       "         0.25574892,  0.22869687,  0.        ,  0.48444579,  0.        ,\n",
       "         0.        ,  0.22869687, -0.44459639,  0.31700794,  0.        ,\n",
       "         0.43693505,  0.31700794,  0.        ,  0.        ,  0.31700794,\n",
       "         0.        ,  0.31700794]])"
      ]
     },
     "execution_count": 122,
     "metadata": {},
     "output_type": "execute_result"
    }
   ],
   "source": [
    "model.coef_"
   ]
  },
  {
   "cell_type": "code",
   "execution_count": 123,
   "metadata": {
    "collapsed": false
   },
   "outputs": [
    {
     "data": {
      "text/plain": [
       "0.8571428571428571"
      ]
     },
     "execution_count": 123,
     "metadata": {},
     "output_type": "execute_result"
    }
   ],
   "source": [
    "model.score(X_test,y_test)"
   ]
  },
  {
   "cell_type": "code",
   "execution_count": 124,
   "metadata": {
    "collapsed": false
   },
   "outputs": [
    {
     "data": {
      "text/plain": [
       "array([[6, 1],\n",
       "       [1, 6]])"
      ]
     },
     "execution_count": 124,
     "metadata": {},
     "output_type": "execute_result"
    }
   ],
   "source": [
    "from sklearn.metrics import confusion_matrix\n",
    "\n",
    "confusion_matrix(y_test,model.predict(X_test))"
   ]
  },
  {
   "cell_type": "code",
   "execution_count": 91,
   "metadata": {
    "collapsed": false
   },
   "outputs": [
    {
     "data": {
      "text/plain": [
       "0.2944"
      ]
     },
     "execution_count": 91,
     "metadata": {},
     "output_type": "execute_result"
    }
   ],
   "source": [
    "736/(1764+736)"
   ]
  },
  {
   "cell_type": "code",
   "execution_count": 92,
   "metadata": {
    "collapsed": false
   },
   "outputs": [
    {
     "data": {
      "text/plain": [
       "7"
      ]
     },
     "execution_count": 92,
     "metadata": {},
     "output_type": "execute_result"
    }
   ],
   "source": [
    "sum(y_test)"
   ]
  },
  {
   "cell_type": "code",
   "execution_count": 68,
   "metadata": {
    "collapsed": false
   },
   "outputs": [],
   "source": [
    "data_queries = pd.read_csv('test.csv')\n",
    "# vectorizer_queries = feature_extraction.text.CountVectorizer(\n",
    "# #     vocabulary=negative_words\n",
    "    \n",
    "# )\n",
    "X_queries = vectorizer.transform(data_queries['text']).todense()"
   ]
  },
  {
   "cell_type": "code",
   "execution_count": 71,
   "metadata": {
    "collapsed": false
   },
   "outputs": [
    {
     "data": {
      "text/plain": [
       "array([0, 0, 0, 0, 0, 0, 0, 0, 0, 0, 0, 0, 0, 0, 0, 1, 0, 0, 0, 0, 0, 0, 0,\n",
       "       0, 0, 0, 0])"
      ]
     },
     "execution_count": 71,
     "metadata": {},
     "output_type": "execute_result"
    }
   ],
   "source": [
    "model.predict(X_queries)"
   ]
  },
  {
   "cell_type": "code",
   "execution_count": null,
   "metadata": {
    "collapsed": true
   },
   "outputs": [],
   "source": []
  },
  {
   "cell_type": "markdown",
   "metadata": {},
   "source": [
    "## end random branch"
   ]
  },
  {
   "cell_type": "code",
   "execution_count": 108,
   "metadata": {
    "collapsed": true
   },
   "outputs": [],
   "source": [
    "def create_vector(string, counter):\n",
    "    temp = []\n",
    "    splitString = string.split(\" \")\n",
    "    negCount = 0\n",
    "\n",
    "    for nword in negative_words:\n",
    "        temp = np.append(temp, np.array([splitString.count(nword)]))\n",
    "        if splitString.count(nword) > 0:\n",
    "            negCount = 1\n",
    "    \n",
    "    temp = np.append(temp, np.array([data.score[counter]]))\n",
    "    \n",
    "    return np.array(temp,negCount) \n",
    "\n",
    "        "
   ]
  },
  {
   "cell_type": "code",
   "execution_count": 104,
   "metadata": {
    "collapsed": true
   },
   "outputs": [],
   "source": [
    "#handling the parent interaction (input as the text string)\n",
    "\n",
    "def unflag(string,X):\n",
    "    vec = create_vector(string)\n",
    "    for v,i in enumerate(X):\n",
    "        if np.array_equal(v, vec[0]):\n",
    "            y[i] = 0\n",
    "    "
   ]
  },
  {
   "cell_type": "code",
   "execution_count": 105,
   "metadata": {
    "collapsed": false
   },
   "outputs": [],
   "source": [
    "#testing flagging\n",
    "# unflag('I hate you and you a monstrous nobody')"
   ]
  }
 ],
 "metadata": {
  "kernelspec": {
   "display_name": "Python 3",
   "language": "python",
   "name": "python3"
  },
  "language_info": {
   "codemirror_mode": {
    "name": "ipython",
    "version": 3
   },
   "file_extension": ".py",
   "mimetype": "text/x-python",
   "name": "python",
   "nbconvert_exporter": "python",
   "pygments_lexer": "ipython3",
   "version": "3.6.0"
  }
 },
 "nbformat": 4,
 "nbformat_minor": 2
}
